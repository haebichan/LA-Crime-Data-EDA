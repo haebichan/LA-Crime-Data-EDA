{
 "cells": [
  {
   "cell_type": "markdown",
   "metadata": {},
   "source": [
    "# Hi everyone. This is the what I have worked on. As you see, the analysis is broken down into these 4 themes:\n",
    "\n",
    "### 1. Basic exploratory analysis (boolean indexing, groupby's, correlations, etc.).\n",
    "### 2. Data analysis using datatime column.\n",
    "### 3. Using geogrphical coordinates (latitude, longitude) for analysis and visualization\n",
    "### 4. Analysis using data related to gender and age.\n",
    "### 5. Joining other datasets (twitter api, yelp api, etc.) to form more powerful insights.  "
   ]
  },
  {
   "cell_type": "code",
   "execution_count": 48,
   "metadata": {},
   "outputs": [
    {
     "name": "stdout",
     "output_type": "stream",
     "text": [
      "Populating the interactive namespace from numpy and matplotlib\n"
     ]
    }
   ],
   "source": [
    "import pandas as pd \n",
    "import matplotlib.pyplot as plt\n",
    "\n",
    "%pylab inline"
   ]
  },
  {
   "cell_type": "code",
   "execution_count": 49,
   "metadata": {
    "collapsed": true
   },
   "outputs": [],
   "source": [
    "df = pd.read_csv('/Users/Haebichan/Desktop/crime data.csv', parse_dates = ['Time Occurred'])"
   ]
  },
  {
   "cell_type": "code",
   "execution_count": 50,
   "metadata": {},
   "outputs": [
    {
     "data": {
      "text/html": [
       "<div>\n",
       "<style>\n",
       "    .dataframe thead tr:only-child th {\n",
       "        text-align: right;\n",
       "    }\n",
       "\n",
       "    .dataframe thead th {\n",
       "        text-align: left;\n",
       "    }\n",
       "\n",
       "    .dataframe tbody tr th {\n",
       "        vertical-align: top;\n",
       "    }\n",
       "</style>\n",
       "<table border=\"1\" class=\"dataframe\">\n",
       "  <thead>\n",
       "    <tr style=\"text-align: right;\">\n",
       "      <th></th>\n",
       "      <th>DR Number</th>\n",
       "      <th>Date Reported</th>\n",
       "      <th>Date Occurred</th>\n",
       "      <th>Time Occurred</th>\n",
       "      <th>Area ID</th>\n",
       "      <th>Area Name</th>\n",
       "      <th>Reporting District</th>\n",
       "      <th>Crime Code</th>\n",
       "      <th>Crime Code Description</th>\n",
       "      <th>MO Codes</th>\n",
       "      <th>...</th>\n",
       "      <th>Weapon Description</th>\n",
       "      <th>Status Code</th>\n",
       "      <th>Status Description</th>\n",
       "      <th>Crime Code 1</th>\n",
       "      <th>Crime Code 2</th>\n",
       "      <th>Crime Code 3</th>\n",
       "      <th>Crime Code 4</th>\n",
       "      <th>Address</th>\n",
       "      <th>Cross Street</th>\n",
       "      <th>Location</th>\n",
       "    </tr>\n",
       "  </thead>\n",
       "  <tbody>\n",
       "    <tr>\n",
       "      <th>0</th>\n",
       "      <td>1208575</td>\n",
       "      <td>03/14/2013</td>\n",
       "      <td>03/11/2013</td>\n",
       "      <td>1800</td>\n",
       "      <td>12</td>\n",
       "      <td>77th Street</td>\n",
       "      <td>1241</td>\n",
       "      <td>626</td>\n",
       "      <td>INTIMATE PARTNER - SIMPLE ASSAULT</td>\n",
       "      <td>0416 0446 1243 2000</td>\n",
       "      <td>...</td>\n",
       "      <td>STRONG-ARM (HANDS, FIST, FEET OR BODILY FORCE)</td>\n",
       "      <td>AO</td>\n",
       "      <td>Adult Other</td>\n",
       "      <td>626.0</td>\n",
       "      <td>NaN</td>\n",
       "      <td>NaN</td>\n",
       "      <td>NaN</td>\n",
       "      <td>6300    BRYNHURST                    AV</td>\n",
       "      <td>NaN</td>\n",
       "      <td>(33.9829, -118.3338)</td>\n",
       "    </tr>\n",
       "    <tr>\n",
       "      <th>1</th>\n",
       "      <td>102005556</td>\n",
       "      <td>01/25/2010</td>\n",
       "      <td>01/22/2010</td>\n",
       "      <td>2300</td>\n",
       "      <td>20</td>\n",
       "      <td>Olympic</td>\n",
       "      <td>2071</td>\n",
       "      <td>510</td>\n",
       "      <td>VEHICLE - STOLEN</td>\n",
       "      <td>NaN</td>\n",
       "      <td>...</td>\n",
       "      <td>NaN</td>\n",
       "      <td>IC</td>\n",
       "      <td>Invest Cont</td>\n",
       "      <td>510.0</td>\n",
       "      <td>NaN</td>\n",
       "      <td>NaN</td>\n",
       "      <td>NaN</td>\n",
       "      <td>VAN NESS</td>\n",
       "      <td>15TH</td>\n",
       "      <td>(34.0454, -118.3157)</td>\n",
       "    </tr>\n",
       "    <tr>\n",
       "      <th>2</th>\n",
       "      <td>418</td>\n",
       "      <td>03/19/2013</td>\n",
       "      <td>03/18/2013</td>\n",
       "      <td>2030</td>\n",
       "      <td>18</td>\n",
       "      <td>Southeast</td>\n",
       "      <td>1823</td>\n",
       "      <td>510</td>\n",
       "      <td>VEHICLE - STOLEN</td>\n",
       "      <td>NaN</td>\n",
       "      <td>...</td>\n",
       "      <td>NaN</td>\n",
       "      <td>IC</td>\n",
       "      <td>Invest Cont</td>\n",
       "      <td>510.0</td>\n",
       "      <td>NaN</td>\n",
       "      <td>NaN</td>\n",
       "      <td>NaN</td>\n",
       "      <td>200 E  104TH                        ST</td>\n",
       "      <td>NaN</td>\n",
       "      <td>(33.942, -118.2717)</td>\n",
       "    </tr>\n",
       "    <tr>\n",
       "      <th>3</th>\n",
       "      <td>101822289</td>\n",
       "      <td>11/11/2010</td>\n",
       "      <td>11/10/2010</td>\n",
       "      <td>1800</td>\n",
       "      <td>18</td>\n",
       "      <td>Southeast</td>\n",
       "      <td>1803</td>\n",
       "      <td>510</td>\n",
       "      <td>VEHICLE - STOLEN</td>\n",
       "      <td>NaN</td>\n",
       "      <td>...</td>\n",
       "      <td>NaN</td>\n",
       "      <td>IC</td>\n",
       "      <td>Invest Cont</td>\n",
       "      <td>510.0</td>\n",
       "      <td>NaN</td>\n",
       "      <td>NaN</td>\n",
       "      <td>NaN</td>\n",
       "      <td>88TH</td>\n",
       "      <td>WALL</td>\n",
       "      <td>(33.9572, -118.2717)</td>\n",
       "    </tr>\n",
       "    <tr>\n",
       "      <th>4</th>\n",
       "      <td>42104479</td>\n",
       "      <td>01/11/2014</td>\n",
       "      <td>01/04/2014</td>\n",
       "      <td>2300</td>\n",
       "      <td>21</td>\n",
       "      <td>Topanga</td>\n",
       "      <td>2133</td>\n",
       "      <td>745</td>\n",
       "      <td>VANDALISM - MISDEAMEANOR ($399 OR UNDER)</td>\n",
       "      <td>0329</td>\n",
       "      <td>...</td>\n",
       "      <td>NaN</td>\n",
       "      <td>IC</td>\n",
       "      <td>Invest Cont</td>\n",
       "      <td>745.0</td>\n",
       "      <td>NaN</td>\n",
       "      <td>NaN</td>\n",
       "      <td>NaN</td>\n",
       "      <td>7200    CIRRUS                       WY</td>\n",
       "      <td>NaN</td>\n",
       "      <td>(34.2009, -118.6369)</td>\n",
       "    </tr>\n",
       "  </tbody>\n",
       "</table>\n",
       "<p>5 rows × 26 columns</p>\n",
       "</div>"
      ],
      "text/plain": [
       "   DR Number Date Reported Date Occurred Time Occurred  Area ID    Area Name  \\\n",
       "0    1208575    03/14/2013    03/11/2013          1800       12  77th Street   \n",
       "1  102005556    01/25/2010    01/22/2010          2300       20      Olympic   \n",
       "2        418    03/19/2013    03/18/2013          2030       18    Southeast   \n",
       "3  101822289    11/11/2010    11/10/2010          1800       18    Southeast   \n",
       "4   42104479    01/11/2014    01/04/2014          2300       21      Topanga   \n",
       "\n",
       "   Reporting District  Crime Code                    Crime Code Description  \\\n",
       "0                1241         626         INTIMATE PARTNER - SIMPLE ASSAULT   \n",
       "1                2071         510                          VEHICLE - STOLEN   \n",
       "2                1823         510                          VEHICLE - STOLEN   \n",
       "3                1803         510                          VEHICLE - STOLEN   \n",
       "4                2133         745  VANDALISM - MISDEAMEANOR ($399 OR UNDER)   \n",
       "\n",
       "              MO Codes          ...           \\\n",
       "0  0416 0446 1243 2000          ...            \n",
       "1                  NaN          ...            \n",
       "2                  NaN          ...            \n",
       "3                  NaN          ...            \n",
       "4                 0329          ...            \n",
       "\n",
       "                               Weapon Description Status Code  \\\n",
       "0  STRONG-ARM (HANDS, FIST, FEET OR BODILY FORCE)          AO   \n",
       "1                                             NaN          IC   \n",
       "2                                             NaN          IC   \n",
       "3                                             NaN          IC   \n",
       "4                                             NaN          IC   \n",
       "\n",
       "  Status Description  Crime Code 1 Crime Code 2  Crime Code 3 Crime Code 4  \\\n",
       "0        Adult Other         626.0          NaN           NaN          NaN   \n",
       "1        Invest Cont         510.0          NaN           NaN          NaN   \n",
       "2        Invest Cont         510.0          NaN           NaN          NaN   \n",
       "3        Invest Cont         510.0          NaN           NaN          NaN   \n",
       "4        Invest Cont         745.0          NaN           NaN          NaN   \n",
       "\n",
       "                                   Address Cross Street             Location   \n",
       "0  6300    BRYNHURST                    AV          NaN  (33.9829, -118.3338)  \n",
       "1                                 VAN NESS         15TH  (34.0454, -118.3157)  \n",
       "2   200 E  104TH                        ST          NaN   (33.942, -118.2717)  \n",
       "3                                     88TH         WALL  (33.9572, -118.2717)  \n",
       "4  7200    CIRRUS                       WY          NaN  (34.2009, -118.6369)  \n",
       "\n",
       "[5 rows x 26 columns]"
      ]
     },
     "execution_count": 50,
     "metadata": {},
     "output_type": "execute_result"
    }
   ],
   "source": [
    "df.head()"
   ]
  },
  {
   "cell_type": "code",
   "execution_count": 51,
   "metadata": {},
   "outputs": [
    {
     "data": {
      "text/plain": [
       "Index(['DR Number', 'Date Reported', 'Date Occurred', 'Time Occurred',\n",
       "       'Area ID', 'Area Name', 'Reporting District', 'Crime Code',\n",
       "       'Crime Code Description', 'MO Codes', 'Victim Age', 'Victim Sex',\n",
       "       'Victim Descent', 'Premise Code', 'Premise Description',\n",
       "       'Weapon Used Code', 'Weapon Description', 'Status Code',\n",
       "       'Status Description', 'Crime Code 1', 'Crime Code 2', 'Crime Code 3',\n",
       "       'Crime Code 4', 'Address', 'Cross Street', 'Location '],\n",
       "      dtype='object')"
      ]
     },
     "execution_count": 51,
     "metadata": {},
     "output_type": "execute_result"
    }
   ],
   "source": [
    "df.columns"
   ]
  },
  {
   "cell_type": "markdown",
   "metadata": {},
   "source": [
    "#### Notice the Location column, which has a spacing. Use the code below to strip all unnecessary spaces."
   ]
  },
  {
   "cell_type": "code",
   "execution_count": 52,
   "metadata": {},
   "outputs": [
    {
     "data": {
      "text/plain": [
       "Index(['DR Number', 'Date Reported', 'Date Occurred', 'Time Occurred',\n",
       "       'Area ID', 'Area Name', 'Reporting District', 'Crime Code',\n",
       "       'Crime Code Description', 'MO Codes', 'Victim Age', 'Victim Sex',\n",
       "       'Victim Descent', 'Premise Code', 'Premise Description',\n",
       "       'Weapon Used Code', 'Weapon Description', 'Status Code',\n",
       "       'Status Description', 'Crime Code 1', 'Crime Code 2', 'Crime Code 3',\n",
       "       'Crime Code 4', 'Address', 'Cross Street', 'Location'],\n",
       "      dtype='object')"
      ]
     },
     "execution_count": 52,
     "metadata": {},
     "output_type": "execute_result"
    }
   ],
   "source": [
    "df.columns = [col.strip() for col in df.columns]\n",
    "df.columns"
   ]
  },
  {
   "cell_type": "code",
   "execution_count": 53,
   "metadata": {},
   "outputs": [
    {
     "data": {
      "text/plain": [
       "(1755318, 26)"
      ]
     },
     "execution_count": 53,
     "metadata": {},
     "output_type": "execute_result"
    }
   ],
   "source": [
    "df.shape"
   ]
  },
  {
   "cell_type": "markdown",
   "metadata": {},
   "source": [
    "#### Over 1.5 million samples, wow! Working with large data like this can break your jupyter notebook, especially if you are using for loops to say replace categorical values in a column with numeric ones. Maybe there's a better way to do things like this that doesn't encourage breaking.\n",
    "\n",
    "\n",
    "\n",
    "\n",
    "\n",
    "\n"
   ]
  },
  {
   "cell_type": "markdown",
   "metadata": {},
   "source": [
    "# Basic Exploratory Data Analysis"
   ]
  },
  {
   "cell_type": "code",
   "execution_count": 54,
   "metadata": {},
   "outputs": [
    {
     "data": {
      "image/png": "[encoded data removed]",
      "text/plain": [
       "<matplotlib.figure.Figure at 0x1192483c8>"
      ]
     },
     "metadata": {},
     "output_type": "display_data"
    }
   ],
   "source": [
    "#The graph above shows the number of reported times vehicles get stolen in different parts of Los Angeles.\n",
    "stolen_vehicle_area_counts = df[df['Crime Code Description'] == 'VEHICLE - STOLEN']['Area Name'].value_counts()\n",
    "\n",
    "figure(figsize=(23,6))\n",
    "stolen_vehicle_area_counts.sort_values()\n",
    "bar(range(21), stolen_vehicle_area_counts)\n",
    "xticks(range(21), stolen_vehicle_area_counts.index);"
   ]
  },
  {
   "cell_type": "code",
   "execution_count": 55,
   "metadata": {},
   "outputs": [
    {
     "data": {
      "text/plain": [
       "Text(0.5,1,'Homicide counts by LA area')"
      ]
     },
     "execution_count": 55,
     "metadata": {},
     "output_type": "execute_result"
    },
    {
     "data": {
      "image/png": "[encoded data removed]",
      "text/plain": [
       "<matplotlib.figure.Figure at 0x1812fca20>"
      ]
     },
     "metadata": {},
     "output_type": "display_data"
    }
   ],
   "source": [
    "#The graph below shows the same, but with criminal homicide. Wow! Everyone stay away from 77th street.\n",
    "\n",
    "homicide_counts_by_area = df[df['Crime Code'] == 110]['Area Name'].value_counts()\n",
    "\n",
    "\n",
    "figure(figsize=(25,11))\n",
    "bar(range(21), homicide_counts_by_area)\n",
    "xticks(range(21), homicide_counts_by_area.index);\n",
    "title('Homicide counts by LA area')"
   ]
  },
  {
   "cell_type": "markdown",
   "metadata": {},
   "source": [
    "# Exploring and Analyzing Data Through DateTime"
   ]
  },
  {
   "cell_type": "code",
   "execution_count": 56,
   "metadata": {
    "collapsed": true
   },
   "outputs": [],
   "source": [
    "df['Time Occurred'] = df['Time Occurred'].astype(str)"
   ]
  },
  {
   "cell_type": "code",
   "execution_count": 57,
   "metadata": {
    "collapsed": true
   },
   "outputs": [],
   "source": [
    "df['Time Occurred'] = [i[:-2] + ':' + i[-2:] + ':00' for i in df['Time Occurred']]"
   ]
  },
  {
   "cell_type": "markdown",
   "metadata": {},
   "source": [
    "#### What I did here was to first turn the integers in the 'Time Occurred\" column into string. In doing so, I could add \":00\" into each values. This is important, since if you want to change the type of column into a 'datetime', you need the values to be in \"12:00:00\" kind of format, from what I understand. If that's not true, please tell me the correct answer.\n",
    "\n",
    "\n",
    "\n",
    "\n"
   ]
  },
  {
   "cell_type": "markdown",
   "metadata": {},
   "source": [
    "."
   ]
  },
  {
   "cell_type": "code",
   "execution_count": 58,
   "metadata": {},
   "outputs": [
    {
     "data": {
      "text/html": [
       "<div>\n",
       "<style>\n",
       "    .dataframe thead tr:only-child th {\n",
       "        text-align: right;\n",
       "    }\n",
       "\n",
       "    .dataframe thead th {\n",
       "        text-align: left;\n",
       "    }\n",
       "\n",
       "    .dataframe tbody tr th {\n",
       "        vertical-align: top;\n",
       "    }\n",
       "</style>\n",
       "<table border=\"1\" class=\"dataframe\">\n",
       "  <thead>\n",
       "    <tr style=\"text-align: right;\">\n",
       "      <th></th>\n",
       "      <th>DR Number</th>\n",
       "      <th>Date Reported</th>\n",
       "      <th>Date Occurred</th>\n",
       "      <th>Time Occurred</th>\n",
       "      <th>Area ID</th>\n",
       "      <th>Area Name</th>\n",
       "      <th>Reporting District</th>\n",
       "      <th>Crime Code</th>\n",
       "      <th>Crime Code Description</th>\n",
       "      <th>MO Codes</th>\n",
       "      <th>...</th>\n",
       "      <th>Weapon Description</th>\n",
       "      <th>Status Code</th>\n",
       "      <th>Status Description</th>\n",
       "      <th>Crime Code 1</th>\n",
       "      <th>Crime Code 2</th>\n",
       "      <th>Crime Code 3</th>\n",
       "      <th>Crime Code 4</th>\n",
       "      <th>Address</th>\n",
       "      <th>Cross Street</th>\n",
       "      <th>Location</th>\n",
       "    </tr>\n",
       "  </thead>\n",
       "  <tbody>\n",
       "    <tr>\n",
       "      <th>0</th>\n",
       "      <td>1208575</td>\n",
       "      <td>03/14/2013</td>\n",
       "      <td>03/11/2013</td>\n",
       "      <td>18:00:00</td>\n",
       "      <td>12</td>\n",
       "      <td>77th Street</td>\n",
       "      <td>1241</td>\n",
       "      <td>626</td>\n",
       "      <td>INTIMATE PARTNER - SIMPLE ASSAULT</td>\n",
       "      <td>0416 0446 1243 2000</td>\n",
       "      <td>...</td>\n",
       "      <td>STRONG-ARM (HANDS, FIST, FEET OR BODILY FORCE)</td>\n",
       "      <td>AO</td>\n",
       "      <td>Adult Other</td>\n",
       "      <td>626.0</td>\n",
       "      <td>NaN</td>\n",
       "      <td>NaN</td>\n",
       "      <td>NaN</td>\n",
       "      <td>6300    BRYNHURST                    AV</td>\n",
       "      <td>NaN</td>\n",
       "      <td>(33.9829, -118.3338)</td>\n",
       "    </tr>\n",
       "  </tbody>\n",
       "</table>\n",
       "<p>1 rows × 26 columns</p>\n",
       "</div>"
      ],
      "text/plain": [
       "   DR Number Date Reported Date Occurred Time Occurred  Area ID    Area Name  \\\n",
       "0    1208575    03/14/2013    03/11/2013      18:00:00       12  77th Street   \n",
       "\n",
       "   Reporting District  Crime Code             Crime Code Description  \\\n",
       "0                1241         626  INTIMATE PARTNER - SIMPLE ASSAULT   \n",
       "\n",
       "              MO Codes          ...           \\\n",
       "0  0416 0446 1243 2000          ...            \n",
       "\n",
       "                               Weapon Description Status Code  \\\n",
       "0  STRONG-ARM (HANDS, FIST, FEET OR BODILY FORCE)          AO   \n",
       "\n",
       "  Status Description  Crime Code 1 Crime Code 2  Crime Code 3 Crime Code 4  \\\n",
       "0        Adult Other         626.0          NaN           NaN          NaN   \n",
       "\n",
       "                                   Address Cross Street              Location  \n",
       "0  6300    BRYNHURST                    AV          NaN  (33.9829, -118.3338)  \n",
       "\n",
       "[1 rows x 26 columns]"
      ]
     },
     "execution_count": 58,
     "metadata": {},
     "output_type": "execute_result"
    }
   ],
   "source": [
    "df.head(1)"
   ]
  },
  {
   "cell_type": "code",
   "execution_count": 59,
   "metadata": {
    "collapsed": true
   },
   "outputs": [],
   "source": [
    "#Merging the Date and the Time columns and turning them into one column with a 'datetime' format.\n",
    "\n",
    "df['Date Occurred'] = pd.to_datetime(df['Date Occurred'] + \" \" + df['Time Occurred'], format=\"%m/%d/%Y %H:%M:%S\")"
   ]
  },
  {
   "cell_type": "code",
   "execution_count": 60,
   "metadata": {},
   "outputs": [
    {
     "data": {
      "text/html": [
       "<div>\n",
       "<style>\n",
       "    .dataframe thead tr:only-child th {\n",
       "        text-align: right;\n",
       "    }\n",
       "\n",
       "    .dataframe thead th {\n",
       "        text-align: left;\n",
       "    }\n",
       "\n",
       "    .dataframe tbody tr th {\n",
       "        vertical-align: top;\n",
       "    }\n",
       "</style>\n",
       "<table border=\"1\" class=\"dataframe\">\n",
       "  <thead>\n",
       "    <tr style=\"text-align: right;\">\n",
       "      <th></th>\n",
       "      <th>DR Number</th>\n",
       "      <th>Date Reported</th>\n",
       "      <th>Date Occurred</th>\n",
       "      <th>Time Occurred</th>\n",
       "      <th>Area ID</th>\n",
       "      <th>Area Name</th>\n",
       "      <th>Reporting District</th>\n",
       "      <th>Crime Code</th>\n",
       "      <th>Crime Code Description</th>\n",
       "      <th>MO Codes</th>\n",
       "      <th>...</th>\n",
       "      <th>Weapon Description</th>\n",
       "      <th>Status Code</th>\n",
       "      <th>Status Description</th>\n",
       "      <th>Crime Code 1</th>\n",
       "      <th>Crime Code 2</th>\n",
       "      <th>Crime Code 3</th>\n",
       "      <th>Crime Code 4</th>\n",
       "      <th>Address</th>\n",
       "      <th>Cross Street</th>\n",
       "      <th>Location</th>\n",
       "    </tr>\n",
       "  </thead>\n",
       "  <tbody>\n",
       "    <tr>\n",
       "      <th>0</th>\n",
       "      <td>1208575</td>\n",
       "      <td>03/14/2013</td>\n",
       "      <td>2013-03-11 18:00:00</td>\n",
       "      <td>18:00:00</td>\n",
       "      <td>12</td>\n",
       "      <td>77th Street</td>\n",
       "      <td>1241</td>\n",
       "      <td>626</td>\n",
       "      <td>INTIMATE PARTNER - SIMPLE ASSAULT</td>\n",
       "      <td>0416 0446 1243 2000</td>\n",
       "      <td>...</td>\n",
       "      <td>STRONG-ARM (HANDS, FIST, FEET OR BODILY FORCE)</td>\n",
       "      <td>AO</td>\n",
       "      <td>Adult Other</td>\n",
       "      <td>626.0</td>\n",
       "      <td>NaN</td>\n",
       "      <td>NaN</td>\n",
       "      <td>NaN</td>\n",
       "      <td>6300    BRYNHURST                    AV</td>\n",
       "      <td>NaN</td>\n",
       "      <td>(33.9829, -118.3338)</td>\n",
       "    </tr>\n",
       "    <tr>\n",
       "      <th>1</th>\n",
       "      <td>102005556</td>\n",
       "      <td>01/25/2010</td>\n",
       "      <td>2010-01-22 23:00:00</td>\n",
       "      <td>23:00:00</td>\n",
       "      <td>20</td>\n",
       "      <td>Olympic</td>\n",
       "      <td>2071</td>\n",
       "      <td>510</td>\n",
       "      <td>VEHICLE - STOLEN</td>\n",
       "      <td>NaN</td>\n",
       "      <td>...</td>\n",
       "      <td>NaN</td>\n",
       "      <td>IC</td>\n",
       "      <td>Invest Cont</td>\n",
       "      <td>510.0</td>\n",
       "      <td>NaN</td>\n",
       "      <td>NaN</td>\n",
       "      <td>NaN</td>\n",
       "      <td>VAN NESS</td>\n",
       "      <td>15TH</td>\n",
       "      <td>(34.0454, -118.3157)</td>\n",
       "    </tr>\n",
       "    <tr>\n",
       "      <th>2</th>\n",
       "      <td>418</td>\n",
       "      <td>03/19/2013</td>\n",
       "      <td>2013-03-18 20:30:00</td>\n",
       "      <td>20:30:00</td>\n",
       "      <td>18</td>\n",
       "      <td>Southeast</td>\n",
       "      <td>1823</td>\n",
       "      <td>510</td>\n",
       "      <td>VEHICLE - STOLEN</td>\n",
       "      <td>NaN</td>\n",
       "      <td>...</td>\n",
       "      <td>NaN</td>\n",
       "      <td>IC</td>\n",
       "      <td>Invest Cont</td>\n",
       "      <td>510.0</td>\n",
       "      <td>NaN</td>\n",
       "      <td>NaN</td>\n",
       "      <td>NaN</td>\n",
       "      <td>200 E  104TH                        ST</td>\n",
       "      <td>NaN</td>\n",
       "      <td>(33.942, -118.2717)</td>\n",
       "    </tr>\n",
       "    <tr>\n",
       "      <th>3</th>\n",
       "      <td>101822289</td>\n",
       "      <td>11/11/2010</td>\n",
       "      <td>2010-11-10 18:00:00</td>\n",
       "      <td>18:00:00</td>\n",
       "      <td>18</td>\n",
       "      <td>Southeast</td>\n",
       "      <td>1803</td>\n",
       "      <td>510</td>\n",
       "      <td>VEHICLE - STOLEN</td>\n",
       "      <td>NaN</td>\n",
       "      <td>...</td>\n",
       "      <td>NaN</td>\n",
       "      <td>IC</td>\n",
       "      <td>Invest Cont</td>\n",
       "      <td>510.0</td>\n",
       "      <td>NaN</td>\n",
       "      <td>NaN</td>\n",
       "      <td>NaN</td>\n",
       "      <td>88TH</td>\n",
       "      <td>WALL</td>\n",
       "      <td>(33.9572, -118.2717)</td>\n",
       "    </tr>\n",
       "    <tr>\n",
       "      <th>4</th>\n",
       "      <td>42104479</td>\n",
       "      <td>01/11/2014</td>\n",
       "      <td>2014-01-04 23:00:00</td>\n",
       "      <td>23:00:00</td>\n",
       "      <td>21</td>\n",
       "      <td>Topanga</td>\n",
       "      <td>2133</td>\n",
       "      <td>745</td>\n",
       "      <td>VANDALISM - MISDEAMEANOR ($399 OR UNDER)</td>\n",
       "      <td>0329</td>\n",
       "      <td>...</td>\n",
       "      <td>NaN</td>\n",
       "      <td>IC</td>\n",
       "      <td>Invest Cont</td>\n",
       "      <td>745.0</td>\n",
       "      <td>NaN</td>\n",
       "      <td>NaN</td>\n",
       "      <td>NaN</td>\n",
       "      <td>7200    CIRRUS                       WY</td>\n",
       "      <td>NaN</td>\n",
       "      <td>(34.2009, -118.6369)</td>\n",
       "    </tr>\n",
       "  </tbody>\n",
       "</table>\n",
       "<p>5 rows × 26 columns</p>\n",
       "</div>"
      ],
      "text/plain": [
       "   DR Number Date Reported       Date Occurred Time Occurred  Area ID  \\\n",
       "0    1208575    03/14/2013 2013-03-11 18:00:00      18:00:00       12   \n",
       "1  102005556    01/25/2010 2010-01-22 23:00:00      23:00:00       20   \n",
       "2        418    03/19/2013 2013-03-18 20:30:00      20:30:00       18   \n",
       "3  101822289    11/11/2010 2010-11-10 18:00:00      18:00:00       18   \n",
       "4   42104479    01/11/2014 2014-01-04 23:00:00      23:00:00       21   \n",
       "\n",
       "     Area Name  Reporting District  Crime Code  \\\n",
       "0  77th Street                1241         626   \n",
       "1      Olympic                2071         510   \n",
       "2    Southeast                1823         510   \n",
       "3    Southeast                1803         510   \n",
       "4      Topanga                2133         745   \n",
       "\n",
       "                     Crime Code Description             MO Codes  \\\n",
       "0         INTIMATE PARTNER - SIMPLE ASSAULT  0416 0446 1243 2000   \n",
       "1                          VEHICLE - STOLEN                  NaN   \n",
       "2                          VEHICLE - STOLEN                  NaN   \n",
       "3                          VEHICLE - STOLEN                  NaN   \n",
       "4  VANDALISM - MISDEAMEANOR ($399 OR UNDER)                 0329   \n",
       "\n",
       "           ...                                       Weapon Description  \\\n",
       "0          ...           STRONG-ARM (HANDS, FIST, FEET OR BODILY FORCE)   \n",
       "1          ...                                                      NaN   \n",
       "2          ...                                                      NaN   \n",
       "3          ...                                                      NaN   \n",
       "4          ...                                                      NaN   \n",
       "\n",
       "  Status Code Status Description  Crime Code 1 Crime Code 2  Crime Code 3  \\\n",
       "0          AO        Adult Other         626.0          NaN           NaN   \n",
       "1          IC        Invest Cont         510.0          NaN           NaN   \n",
       "2          IC        Invest Cont         510.0          NaN           NaN   \n",
       "3          IC        Invest Cont         510.0          NaN           NaN   \n",
       "4          IC        Invest Cont         745.0          NaN           NaN   \n",
       "\n",
       "  Crime Code 4                                  Address Cross Street  \\\n",
       "0          NaN  6300    BRYNHURST                    AV          NaN   \n",
       "1          NaN                                 VAN NESS         15TH   \n",
       "2          NaN   200 E  104TH                        ST          NaN   \n",
       "3          NaN                                     88TH         WALL   \n",
       "4          NaN  7200    CIRRUS                       WY          NaN   \n",
       "\n",
       "               Location  \n",
       "0  (33.9829, -118.3338)  \n",
       "1  (34.0454, -118.3157)  \n",
       "2   (33.942, -118.2717)  \n",
       "3  (33.9572, -118.2717)  \n",
       "4  (34.2009, -118.6369)  \n",
       "\n",
       "[5 rows x 26 columns]"
      ]
     },
     "execution_count": 60,
     "metadata": {},
     "output_type": "execute_result"
    }
   ],
   "source": [
    "df.head()"
   ]
  },
  {
   "cell_type": "code",
   "execution_count": 61,
   "metadata": {
    "collapsed": true
   },
   "outputs": [],
   "source": [
    "#Now drop all the columns that don't seem quite useful for data exploration and analysis\n",
    "\n",
    "df.drop(['DR Number','Date Reported','Time Occurred', 'Crime Code 1','Crime Code 2','Crime Code 3','Crime Code 4'], 1 , inplace = True)"
   ]
  },
  {
   "cell_type": "code",
   "execution_count": 62,
   "metadata": {},
   "outputs": [
    {
     "data": {
      "text/html": [
       "<div>\n",
       "<style>\n",
       "    .dataframe thead tr:only-child th {\n",
       "        text-align: right;\n",
       "    }\n",
       "\n",
       "    .dataframe thead th {\n",
       "        text-align: left;\n",
       "    }\n",
       "\n",
       "    .dataframe tbody tr th {\n",
       "        vertical-align: top;\n",
       "    }\n",
       "</style>\n",
       "<table border=\"1\" class=\"dataframe\">\n",
       "  <thead>\n",
       "    <tr style=\"text-align: right;\">\n",
       "      <th></th>\n",
       "      <th>Date Occurred</th>\n",
       "      <th>Area ID</th>\n",
       "      <th>Area Name</th>\n",
       "      <th>Reporting District</th>\n",
       "      <th>Crime Code</th>\n",
       "      <th>Crime Code Description</th>\n",
       "      <th>MO Codes</th>\n",
       "      <th>Victim Age</th>\n",
       "      <th>Victim Sex</th>\n",
       "      <th>Victim Descent</th>\n",
       "      <th>Premise Code</th>\n",
       "      <th>Premise Description</th>\n",
       "      <th>Weapon Used Code</th>\n",
       "      <th>Weapon Description</th>\n",
       "      <th>Status Code</th>\n",
       "      <th>Status Description</th>\n",
       "      <th>Address</th>\n",
       "      <th>Cross Street</th>\n",
       "      <th>Location</th>\n",
       "    </tr>\n",
       "  </thead>\n",
       "  <tbody>\n",
       "    <tr>\n",
       "      <th>0</th>\n",
       "      <td>2013-03-11 18:00:00</td>\n",
       "      <td>12</td>\n",
       "      <td>77th Street</td>\n",
       "      <td>1241</td>\n",
       "      <td>626</td>\n",
       "      <td>INTIMATE PARTNER - SIMPLE ASSAULT</td>\n",
       "      <td>0416 0446 1243 2000</td>\n",
       "      <td>30.0</td>\n",
       "      <td>F</td>\n",
       "      <td>W</td>\n",
       "      <td>502.0</td>\n",
       "      <td>MULTI-UNIT DWELLING (APARTMENT, DUPLEX, ETC)</td>\n",
       "      <td>400.0</td>\n",
       "      <td>STRONG-ARM (HANDS, FIST, FEET OR BODILY FORCE)</td>\n",
       "      <td>AO</td>\n",
       "      <td>Adult Other</td>\n",
       "      <td>6300    BRYNHURST                    AV</td>\n",
       "      <td>NaN</td>\n",
       "      <td>(33.9829, -118.3338)</td>\n",
       "    </tr>\n",
       "    <tr>\n",
       "      <th>1</th>\n",
       "      <td>2010-01-22 23:00:00</td>\n",
       "      <td>20</td>\n",
       "      <td>Olympic</td>\n",
       "      <td>2071</td>\n",
       "      <td>510</td>\n",
       "      <td>VEHICLE - STOLEN</td>\n",
       "      <td>NaN</td>\n",
       "      <td>NaN</td>\n",
       "      <td>NaN</td>\n",
       "      <td>NaN</td>\n",
       "      <td>101.0</td>\n",
       "      <td>STREET</td>\n",
       "      <td>NaN</td>\n",
       "      <td>NaN</td>\n",
       "      <td>IC</td>\n",
       "      <td>Invest Cont</td>\n",
       "      <td>VAN NESS</td>\n",
       "      <td>15TH</td>\n",
       "      <td>(34.0454, -118.3157)</td>\n",
       "    </tr>\n",
       "    <tr>\n",
       "      <th>2</th>\n",
       "      <td>2013-03-18 20:30:00</td>\n",
       "      <td>18</td>\n",
       "      <td>Southeast</td>\n",
       "      <td>1823</td>\n",
       "      <td>510</td>\n",
       "      <td>VEHICLE - STOLEN</td>\n",
       "      <td>NaN</td>\n",
       "      <td>12.0</td>\n",
       "      <td>NaN</td>\n",
       "      <td>NaN</td>\n",
       "      <td>101.0</td>\n",
       "      <td>STREET</td>\n",
       "      <td>NaN</td>\n",
       "      <td>NaN</td>\n",
       "      <td>IC</td>\n",
       "      <td>Invest Cont</td>\n",
       "      <td>200 E  104TH                        ST</td>\n",
       "      <td>NaN</td>\n",
       "      <td>(33.942, -118.2717)</td>\n",
       "    </tr>\n",
       "    <tr>\n",
       "      <th>3</th>\n",
       "      <td>2010-11-10 18:00:00</td>\n",
       "      <td>18</td>\n",
       "      <td>Southeast</td>\n",
       "      <td>1803</td>\n",
       "      <td>510</td>\n",
       "      <td>VEHICLE - STOLEN</td>\n",
       "      <td>NaN</td>\n",
       "      <td>NaN</td>\n",
       "      <td>NaN</td>\n",
       "      <td>NaN</td>\n",
       "      <td>101.0</td>\n",
       "      <td>STREET</td>\n",
       "      <td>NaN</td>\n",
       "      <td>NaN</td>\n",
       "      <td>IC</td>\n",
       "      <td>Invest Cont</td>\n",
       "      <td>88TH</td>\n",
       "      <td>WALL</td>\n",
       "      <td>(33.9572, -118.2717)</td>\n",
       "    </tr>\n",
       "    <tr>\n",
       "      <th>4</th>\n",
       "      <td>2014-01-04 23:00:00</td>\n",
       "      <td>21</td>\n",
       "      <td>Topanga</td>\n",
       "      <td>2133</td>\n",
       "      <td>745</td>\n",
       "      <td>VANDALISM - MISDEAMEANOR ($399 OR UNDER)</td>\n",
       "      <td>0329</td>\n",
       "      <td>84.0</td>\n",
       "      <td>M</td>\n",
       "      <td>W</td>\n",
       "      <td>501.0</td>\n",
       "      <td>SINGLE FAMILY DWELLING</td>\n",
       "      <td>NaN</td>\n",
       "      <td>NaN</td>\n",
       "      <td>IC</td>\n",
       "      <td>Invest Cont</td>\n",
       "      <td>7200    CIRRUS                       WY</td>\n",
       "      <td>NaN</td>\n",
       "      <td>(34.2009, -118.6369)</td>\n",
       "    </tr>\n",
       "  </tbody>\n",
       "</table>\n",
       "</div>"
      ],
      "text/plain": [
       "        Date Occurred  Area ID    Area Name  Reporting District  Crime Code  \\\n",
       "0 2013-03-11 18:00:00       12  77th Street                1241         626   \n",
       "1 2010-01-22 23:00:00       20      Olympic                2071         510   \n",
       "2 2013-03-18 20:30:00       18    Southeast                1823         510   \n",
       "3 2010-11-10 18:00:00       18    Southeast                1803         510   \n",
       "4 2014-01-04 23:00:00       21      Topanga                2133         745   \n",
       "\n",
       "                     Crime Code Description             MO Codes  Victim Age  \\\n",
       "0         INTIMATE PARTNER - SIMPLE ASSAULT  0416 0446 1243 2000        30.0   \n",
       "1                          VEHICLE - STOLEN                  NaN         NaN   \n",
       "2                          VEHICLE - STOLEN                  NaN        12.0   \n",
       "3                          VEHICLE - STOLEN                  NaN         NaN   \n",
       "4  VANDALISM - MISDEAMEANOR ($399 OR UNDER)                 0329        84.0   \n",
       "\n",
       "  Victim Sex Victim Descent  Premise Code  \\\n",
       "0          F              W         502.0   \n",
       "1        NaN            NaN         101.0   \n",
       "2        NaN            NaN         101.0   \n",
       "3        NaN            NaN         101.0   \n",
       "4          M              W         501.0   \n",
       "\n",
       "                            Premise Description  Weapon Used Code  \\\n",
       "0  MULTI-UNIT DWELLING (APARTMENT, DUPLEX, ETC)             400.0   \n",
       "1                                        STREET               NaN   \n",
       "2                                        STREET               NaN   \n",
       "3                                        STREET               NaN   \n",
       "4                        SINGLE FAMILY DWELLING               NaN   \n",
       "\n",
       "                               Weapon Description Status Code  \\\n",
       "0  STRONG-ARM (HANDS, FIST, FEET OR BODILY FORCE)          AO   \n",
       "1                                             NaN          IC   \n",
       "2                                             NaN          IC   \n",
       "3                                             NaN          IC   \n",
       "4                                             NaN          IC   \n",
       "\n",
       "  Status Description                                  Address Cross Street  \\\n",
       "0        Adult Other  6300    BRYNHURST                    AV          NaN   \n",
       "1        Invest Cont                                 VAN NESS         15TH   \n",
       "2        Invest Cont   200 E  104TH                        ST          NaN   \n",
       "3        Invest Cont                                     88TH         WALL   \n",
       "4        Invest Cont  7200    CIRRUS                       WY          NaN   \n",
       "\n",
       "               Location  \n",
       "0  (33.9829, -118.3338)  \n",
       "1  (34.0454, -118.3157)  \n",
       "2   (33.942, -118.2717)  \n",
       "3  (33.9572, -118.2717)  \n",
       "4  (34.2009, -118.6369)  "
      ]
     },
     "execution_count": 62,
     "metadata": {},
     "output_type": "execute_result"
    }
   ],
   "source": [
    "df.head()"
   ]
  },
  {
   "cell_type": "markdown",
   "metadata": {},
   "source": [
    "\n",
    "\n",
    "\n",
    "\n",
    "\n",
    "\n",
    "\n",
    "### Now that we have the date column with hours, days, month, years, etc. we can do really fun analysis. But before we can do that, we need to extract hours, days, etc. from the datetime column and make them into individual columns. We can do this by using the .hour function stored in a datetime variable."
   ]
  },
  {
   "cell_type": "code",
   "execution_count": 63,
   "metadata": {
    "collapsed": true
   },
   "outputs": [],
   "source": [
    "df['hour occurred'] = df['Date Occurred'].apply(lambda x: x.hour)"
   ]
  },
  {
   "cell_type": "code",
   "execution_count": 64,
   "metadata": {
    "collapsed": true
   },
   "outputs": [],
   "source": [
    "# We can also extract many other things, like the month, weekdays, days of the week, days of the month.\n",
    "\n",
    "df['month occurred'] = df['Date Occurred'].apply(lambda x: x.month)\n",
    "df['weekday occurred'] = df['Date Occurred'].apply(lambda x: x.weekday())\n",
    "df['dom occurred'] = df['Date Occurred'].apply(lambda x: x.day)\n",
    "df['day occurred'] = df['Date Occurred'].apply(lambda x: x.weekday_name)"
   ]
  },
  {
   "cell_type": "code",
   "execution_count": 65,
   "metadata": {},
   "outputs": [
    {
     "data": {
      "text/plain": [
       "Text(0.5,1,'monthly counts of theft')"
      ]
     },
     "execution_count": 65,
     "metadata": {},
     "output_type": "execute_result"
    },
    {
     "data": {
      "image/png": "[encoded data removed]",
      "text/plain": [
       "<matplotlib.figure.Figure at 0x117a61f28>"
      ]
     },
     "metadata": {},
     "output_type": "display_data"
    }
   ],
   "source": [
    "#And let's plot some of them! For instance, are there any monthly trends we notice in crimes related to homicide?\n",
    "\n",
    "theft_monthly_count = df[df['Crime Code'] == 354]['month occurred'].value_counts().sort_index()\n",
    "\n",
    "\n",
    "figure(figsize=(12,6))\n",
    "bar(range(1,13), theft_monthly_count)\n",
    "xticks(range(1,13), 'jan feb mar apr may jun jul aug sep oct nov dec'.split());\n",
    "title('monthly counts of theft')"
   ]
  },
  {
   "cell_type": "code",
   "execution_count": 20,
   "metadata": {},
   "outputs": [
    {
     "data": {
      "image/png": "[encoded data removed]",
      "text/plain": [
       "<matplotlib.figure.Figure at 0x1078c46d8>"
      ]
     },
     "metadata": {},
     "output_type": "display_data"
    }
   ],
   "source": [
    "# Perhaps days of the month in the last eight years?\n",
    "\n",
    "def count_rows(rows):\n",
    "    return len(rows)\n",
    "\n",
    "by_date = df.groupby('dom occurred').apply(count_rows)\n",
    "\n",
    "figure(figsize = (12,6))\n",
    "bar(range(1,32), by_date)\n",
    "xticks(range(1,32), by_date.index);\n",
    "\n",
    "\n"
   ]
  },
  {
   "cell_type": "markdown",
   "metadata": {},
   "source": [
    "Notice these strange bumps that occur every five days? And why do crimes in general go down on the 31st and spike up on the 1st? "
   ]
  },
  {
   "cell_type": "code",
   "execution_count": 66,
   "metadata": {},
   "outputs": [
    {
     "data": {
      "image/png": "[encoded data removed]",
      "text/plain": [
       "<matplotlib.figure.Figure at 0x1610eceb8>"
      ]
     },
     "metadata": {},
     "output_type": "display_data"
    }
   ],
   "source": [
    "# Seaborn is like matplotlib jacked up on amino acids. It's more advanced in many ways. For instsance, the heatmap function (which exists in matplotlib but isn't as cool-looking) allows us to visualize data points in a matrix where its intensity is represented by colors. Can you spot any interesting pattens below?\n",
    "\n",
    "import seaborn as sns\n",
    "\n",
    "m = df.groupby(['weekday occurred','hour occurred']).apply(count_rows).unstack()\n",
    "figure(figsize=(12,6))\n",
    "sns.heatmap(m, cmap='Blues_r', linewidth=0.5);"
   ]
  },
  {
   "cell_type": "markdown",
   "metadata": {},
   "source": [
    "What's with this really strange concentration of crimes occurring at noon-time? Any reasons for that?"
   ]
  },
  {
   "cell_type": "markdown",
   "metadata": {},
   "source": [
    "# Data Analysis Using Geographical Coordinates"
   ]
  },
  {
   "cell_type": "code",
   "execution_count": 67,
   "metadata": {
    "collapsed": true
   },
   "outputs": [],
   "source": [
    "# The code below seems long, but if you breat it down, all it's saying is to take the latitude and longitude coordinates, which are stored in one column, to divide them into two seprate columns. \n",
    "\n",
    "coordinates = df['Location'].str.strip('()').str.split(', ', expand = True).rename(columns = {0: 'Latitude', 1: 'Longitude'})\n",
    "\n",
    "df = df.join(coordinates)"
   ]
  },
  {
   "cell_type": "code",
   "execution_count": 68,
   "metadata": {},
   "outputs": [
    {
     "data": {
      "text/html": [
       "<div>\n",
       "<style>\n",
       "    .dataframe thead tr:only-child th {\n",
       "        text-align: right;\n",
       "    }\n",
       "\n",
       "    .dataframe thead th {\n",
       "        text-align: left;\n",
       "    }\n",
       "\n",
       "    .dataframe tbody tr th {\n",
       "        vertical-align: top;\n",
       "    }\n",
       "</style>\n",
       "<table border=\"1\" class=\"dataframe\">\n",
       "  <thead>\n",
       "    <tr style=\"text-align: right;\">\n",
       "      <th></th>\n",
       "      <th>Date Occurred</th>\n",
       "      <th>Area ID</th>\n",
       "      <th>Area Name</th>\n",
       "      <th>Reporting District</th>\n",
       "      <th>Crime Code</th>\n",
       "      <th>Crime Code Description</th>\n",
       "      <th>MO Codes</th>\n",
       "      <th>Victim Age</th>\n",
       "      <th>Victim Sex</th>\n",
       "      <th>Victim Descent</th>\n",
       "      <th>...</th>\n",
       "      <th>Address</th>\n",
       "      <th>Cross Street</th>\n",
       "      <th>Location</th>\n",
       "      <th>hour occurred</th>\n",
       "      <th>month occurred</th>\n",
       "      <th>weekday occurred</th>\n",
       "      <th>dom occurred</th>\n",
       "      <th>day occurred</th>\n",
       "      <th>Latitude</th>\n",
       "      <th>Longitude</th>\n",
       "    </tr>\n",
       "  </thead>\n",
       "  <tbody>\n",
       "    <tr>\n",
       "      <th>0</th>\n",
       "      <td>2013-03-11 18:00:00</td>\n",
       "      <td>12</td>\n",
       "      <td>77th Street</td>\n",
       "      <td>1241</td>\n",
       "      <td>626</td>\n",
       "      <td>INTIMATE PARTNER - SIMPLE ASSAULT</td>\n",
       "      <td>0416 0446 1243 2000</td>\n",
       "      <td>30.0</td>\n",
       "      <td>F</td>\n",
       "      <td>W</td>\n",
       "      <td>...</td>\n",
       "      <td>6300    BRYNHURST                    AV</td>\n",
       "      <td>NaN</td>\n",
       "      <td>(33.9829, -118.3338)</td>\n",
       "      <td>18</td>\n",
       "      <td>3</td>\n",
       "      <td>0</td>\n",
       "      <td>11</td>\n",
       "      <td>Monday</td>\n",
       "      <td>33.9829</td>\n",
       "      <td>-118.3338</td>\n",
       "    </tr>\n",
       "    <tr>\n",
       "      <th>1</th>\n",
       "      <td>2010-01-22 23:00:00</td>\n",
       "      <td>20</td>\n",
       "      <td>Olympic</td>\n",
       "      <td>2071</td>\n",
       "      <td>510</td>\n",
       "      <td>VEHICLE - STOLEN</td>\n",
       "      <td>NaN</td>\n",
       "      <td>NaN</td>\n",
       "      <td>NaN</td>\n",
       "      <td>NaN</td>\n",
       "      <td>...</td>\n",
       "      <td>VAN NESS</td>\n",
       "      <td>15TH</td>\n",
       "      <td>(34.0454, -118.3157)</td>\n",
       "      <td>23</td>\n",
       "      <td>1</td>\n",
       "      <td>4</td>\n",
       "      <td>22</td>\n",
       "      <td>Friday</td>\n",
       "      <td>34.0454</td>\n",
       "      <td>-118.3157</td>\n",
       "    </tr>\n",
       "    <tr>\n",
       "      <th>2</th>\n",
       "      <td>2013-03-18 20:30:00</td>\n",
       "      <td>18</td>\n",
       "      <td>Southeast</td>\n",
       "      <td>1823</td>\n",
       "      <td>510</td>\n",
       "      <td>VEHICLE - STOLEN</td>\n",
       "      <td>NaN</td>\n",
       "      <td>12.0</td>\n",
       "      <td>NaN</td>\n",
       "      <td>NaN</td>\n",
       "      <td>...</td>\n",
       "      <td>200 E  104TH                        ST</td>\n",
       "      <td>NaN</td>\n",
       "      <td>(33.942, -118.2717)</td>\n",
       "      <td>20</td>\n",
       "      <td>3</td>\n",
       "      <td>0</td>\n",
       "      <td>18</td>\n",
       "      <td>Monday</td>\n",
       "      <td>33.942</td>\n",
       "      <td>-118.2717</td>\n",
       "    </tr>\n",
       "    <tr>\n",
       "      <th>3</th>\n",
       "      <td>2010-11-10 18:00:00</td>\n",
       "      <td>18</td>\n",
       "      <td>Southeast</td>\n",
       "      <td>1803</td>\n",
       "      <td>510</td>\n",
       "      <td>VEHICLE - STOLEN</td>\n",
       "      <td>NaN</td>\n",
       "      <td>NaN</td>\n",
       "      <td>NaN</td>\n",
       "      <td>NaN</td>\n",
       "      <td>...</td>\n",
       "      <td>88TH</td>\n",
       "      <td>WALL</td>\n",
       "      <td>(33.9572, -118.2717)</td>\n",
       "      <td>18</td>\n",
       "      <td>11</td>\n",
       "      <td>2</td>\n",
       "      <td>10</td>\n",
       "      <td>Wednesday</td>\n",
       "      <td>33.9572</td>\n",
       "      <td>-118.2717</td>\n",
       "    </tr>\n",
       "    <tr>\n",
       "      <th>4</th>\n",
       "      <td>2014-01-04 23:00:00</td>\n",
       "      <td>21</td>\n",
       "      <td>Topanga</td>\n",
       "      <td>2133</td>\n",
       "      <td>745</td>\n",
       "      <td>VANDALISM - MISDEAMEANOR ($399 OR UNDER)</td>\n",
       "      <td>0329</td>\n",
       "      <td>84.0</td>\n",
       "      <td>M</td>\n",
       "      <td>W</td>\n",
       "      <td>...</td>\n",
       "      <td>7200    CIRRUS                       WY</td>\n",
       "      <td>NaN</td>\n",
       "      <td>(34.2009, -118.6369)</td>\n",
       "      <td>23</td>\n",
       "      <td>1</td>\n",
       "      <td>5</td>\n",
       "      <td>4</td>\n",
       "      <td>Saturday</td>\n",
       "      <td>34.2009</td>\n",
       "      <td>-118.6369</td>\n",
       "    </tr>\n",
       "  </tbody>\n",
       "</table>\n",
       "<p>5 rows × 26 columns</p>\n",
       "</div>"
      ],
      "text/plain": [
       "        Date Occurred  Area ID    Area Name  Reporting District  Crime Code  \\\n",
       "0 2013-03-11 18:00:00       12  77th Street                1241         626   \n",
       "1 2010-01-22 23:00:00       20      Olympic                2071         510   \n",
       "2 2013-03-18 20:30:00       18    Southeast                1823         510   \n",
       "3 2010-11-10 18:00:00       18    Southeast                1803         510   \n",
       "4 2014-01-04 23:00:00       21      Topanga                2133         745   \n",
       "\n",
       "                     Crime Code Description             MO Codes  Victim Age  \\\n",
       "0         INTIMATE PARTNER - SIMPLE ASSAULT  0416 0446 1243 2000        30.0   \n",
       "1                          VEHICLE - STOLEN                  NaN         NaN   \n",
       "2                          VEHICLE - STOLEN                  NaN        12.0   \n",
       "3                          VEHICLE - STOLEN                  NaN         NaN   \n",
       "4  VANDALISM - MISDEAMEANOR ($399 OR UNDER)                 0329        84.0   \n",
       "\n",
       "  Victim Sex Victim Descent    ...      \\\n",
       "0          F              W    ...       \n",
       "1        NaN            NaN    ...       \n",
       "2        NaN            NaN    ...       \n",
       "3        NaN            NaN    ...       \n",
       "4          M              W    ...       \n",
       "\n",
       "                                   Address Cross Street              Location  \\\n",
       "0  6300    BRYNHURST                    AV          NaN  (33.9829, -118.3338)   \n",
       "1                                 VAN NESS         15TH  (34.0454, -118.3157)   \n",
       "2   200 E  104TH                        ST          NaN   (33.942, -118.2717)   \n",
       "3                                     88TH         WALL  (33.9572, -118.2717)   \n",
       "4  7200    CIRRUS                       WY          NaN  (34.2009, -118.6369)   \n",
       "\n",
       "  hour occurred month occurred weekday occurred dom occurred day occurred  \\\n",
       "0            18              3                0           11       Monday   \n",
       "1            23              1                4           22       Friday   \n",
       "2            20              3                0           18       Monday   \n",
       "3            18             11                2           10    Wednesday   \n",
       "4            23              1                5            4     Saturday   \n",
       "\n",
       "  Latitude  Longitude  \n",
       "0  33.9829  -118.3338  \n",
       "1  34.0454  -118.3157  \n",
       "2   33.942  -118.2717  \n",
       "3  33.9572  -118.2717  \n",
       "4  34.2009  -118.6369  \n",
       "\n",
       "[5 rows x 26 columns]"
      ]
     },
     "execution_count": 68,
     "metadata": {},
     "output_type": "execute_result"
    }
   ],
   "source": [
    "df.head()"
   ]
  },
  {
   "cell_type": "code",
   "execution_count": 69,
   "metadata": {},
   "outputs": [
    {
     "name": "stderr",
     "output_type": "stream",
     "text": [
      "/Users/Haebichan/anaconda3/lib/python3.6/site-packages/numpy/lib/function_base.py:780: RuntimeWarning: invalid value encountered in greater_equal\n",
      "  keep = (tmp_a >= first_edge)\n",
      "/Users/Haebichan/anaconda3/lib/python3.6/site-packages/numpy/lib/function_base.py:781: RuntimeWarning: invalid value encountered in less_equal\n",
      "  keep &= (tmp_a <= last_edge)\n"
     ]
    },
    {
     "data": {
      "text/plain": [
       "<matplotlib.legend.Legend at 0x221238fd0>"
      ]
     },
     "execution_count": 69,
     "metadata": {},
     "output_type": "execute_result"
    },
    {
     "data": {
      "image/png": "[encoded data removed]",
      "text/plain": [
       "<matplotlib.figure.Figure at 0x10c24aa90>"
      ]
     },
     "metadata": {},
     "output_type": "display_data"
    }
   ],
   "source": [
    "# With these coordinates, we can do some really cool things. For instance, we can plot them as histograms to see where crimes occur the most. With \"twiny()\" function, we can have two graphs in one place. Much like the the \" as = fig.add_subplot() \"\n",
    "\n",
    "df['Latitude'] = df['Latitude'].astype(float) \n",
    "df['Longitude'] = df['Longitude'].astype(float) \n",
    "df['Longitude'].describe()\n",
    "df['Latitude'].describe()\n",
    "\n",
    "hist(df.Longitude, bins = 80, range = (-118.74, -118.180), label = 'Longitude', alpha = 0.5);\n",
    "legend(loc= 'upper right')\n",
    "twiny()\n",
    "hist(df.Latitude, bins = 80, range = (33.5, 34.4), label = 'Latitude', color = 'red', alpha = 0.5);\n",
    "legend(loc='upper left')"
   ]
  },
  {
   "cell_type": "code",
   "execution_count": 70,
   "metadata": {},
   "outputs": [
    {
     "data": {
      "image/png": "[encoded data removed]",
      "text/plain": [
       "<matplotlib.figure.Figure at 0x10c1fbcf8>"
      ]
     },
     "metadata": {},
     "output_type": "display_data"
    }
   ],
   "source": [
    "# Or, we can do something even much, much cooler. With these points, we can draw Los Angeles!\n",
    "\n",
    "figure(figsize = (12,6))\n",
    "plot(df.Latitude, df.Longitude, '.', ms=0.5);\n",
    "xlim(33.5, 34.4);\n",
    "ylim(-118.74, -118.180);\n",
    "title('Picture of Los Angeles');"
   ]
  },
  {
   "cell_type": "markdown",
   "metadata": {
    "collapsed": true
   },
   "source": [
    "# Other Kinds of Analysis: Gender and Age\n",
    "\n",
    "With the \"Victim Sex\" and \"Victim Age\" columns, we can really interesting things, like the gender ratio, which gender or age gets correlated with which crime, etc. I won't do that here, as I haven't done it myself. Please try it yourselves! "
   ]
  },
  {
   "cell_type": "markdown",
   "metadata": {},
   "source": [
    "# Other Other kinds of Analysis: API's\n",
    "\n",
    "We can also link this dataset with other datasets to see if there are other insights we can extract. We can use the twitter api to see if particular tweets correspond to the intensity in crimes, or maybe the Yelp API to see the relationship between business and crimes."
   ]
  },
  {
   "cell_type": "code",
   "execution_count": null,
   "metadata": {
    "collapsed": true
   },
   "outputs": [],
   "source": []
  }
 ],
 "metadata": {
  "kernelspec": {
   "display_name": "Python 3",
   "language": "python",
   "name": "python3"
  },
  "language_info": {
   "codemirror_mode": {
    "name": "ipython",
    "version": 3
   },
   "file_extension": ".py",
   "mimetype": "text/x-python",
   "name": "python",
   "nbconvert_exporter": "python",
   "pygments_lexer": "ipython3",
   "version": "3.6.3"
  }
 },
 "nbformat": 4,
 "nbformat_minor": 2
}
